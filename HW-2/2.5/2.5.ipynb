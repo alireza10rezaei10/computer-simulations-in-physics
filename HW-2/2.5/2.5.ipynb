{
 "cells": [
  {
   "cell_type": "markdown",
   "id": "9e4f7456-e91e-4331-8fd6-cbe190651169",
   "metadata": {},
   "source": [
    "<div dir=\"rtl\">\n",
    "  تمرین سری دوم درس شبیه سازی رایانه ای در فیزیک\n",
    "<br>\n",
    "    سوال 2.5\n",
    "<br>\n",
    "    علیرضا رضایی\n",
    "<br>\n",
    "    97100762\n",
    "</div>"
   ]
  },
  {
   "cell_type": "code",
   "execution_count": 24,
   "id": "73e7cbac-3452-426f-a894-09f24e6e4695",
   "metadata": {},
   "outputs": [],
   "source": [
    "import numpy as np\n",
    "from our_modules import modules"
   ]
  },
  {
   "cell_type": "code",
   "execution_count": 9,
   "id": "9deb8319-ce8a-4a50-9326-452dd12d278c",
   "metadata": {},
   "outputs": [],
   "source": [
    "# magic functions for serpineski ---------------------------\n",
    "\n",
    "def f1(point):\n",
    "    '''scale'''\n",
    "    return point * 1/2\n",
    "    \n",
    "def f2(point):\n",
    "    '''scale and transfer to top'''\n",
    "    return point* 1/2 + np.array([300/4, np.sin(np.pi/3)*300/2])\n",
    "    \n",
    "def f3(point):\n",
    "    '''scale and transfer to right'''\n",
    "    return point * 1/2 + np.array([300/2, 0])\n",
    "\n",
    "serpineski_magic_functions = [f1, f2, f3]"
   ]
  },
  {
   "cell_type": "code",
   "execution_count": 10,
   "id": "7754700b-eae4-4972-b393-0af7bc0a9004",
   "metadata": {},
   "outputs": [],
   "source": [
    "modules.main_loop(serpineski_magic_functions)"
   ]
  },
  {
   "cell_type": "markdown",
   "id": "24bd871b-6c9a-4f33-a402-1a439d54f110",
   "metadata": {},
   "source": [
    "## نمونه خروجی"
   ]
  },
  {
   "cell_type": "markdown",
   "id": "b0becf5f-86d4-40ae-922d-f44382db2c3a",
   "metadata": {},
   "source": [
    "<img src=\"./images/Screenshot (194).png\">\n",
    "<img src=\"./images/Screenshot (195).png\">\n",
    "<img src=\"./images/Screenshot (196).png\">\n",
    "<img src=\"./images/Screenshot (197).png\">\n",
    "<img src=\"./images/Screenshot (198).png\">\n",
    "<img src=\"./images/Screenshot (199).png\">\n",
    "<img src=\"./images/Screenshot (200).png\">\n",
    "<img src=\"./images/Screenshot (201).png\">\n",
    "<img src=\"./images/Screenshot (202).png\">\n",
    "<img src=\"./images/Screenshot (203).png\">\n",
    "<img src=\"./images/Screenshot (204).png\">\n",
    "<img src=\"./images/Screenshot (205).png\">\n",
    "<img src=\"./images/Screenshot (206).png\">\n",
    "<img src=\"./images/Screenshot (207).png\">\n",
    "<img src=\"./images/Screenshot (208).png\">\n",
    "<img src=\"./images/Screenshot (209).png\">\n",
    "<img src=\"./images/Screenshot (210).png\">\n",
    "<img src=\"./images/Screenshot (211).png\">\n",
    "<img src=\"./images/Screenshot (212).png\">\n",
    "<img src=\"./images/Screenshot (213).png\">\n",
    "<img src=\"./images/Screenshot (214).png\">\n",
    "<img src=\"./images/Screenshot (215).png\">\n",
    "<img src=\"./images/Screenshot (216).png\">\n",
    "<img src=\"./images/Screenshot (217).png\">\n",
    "<img src=\"./images/Screenshot (218).png\">\n",
    "<img src=\"./images/Screenshot (219).png\">\n",
    "<img src=\"./images/Screenshot (220).png\">\n",
    "<img src=\"./images/Screenshot (221).png\">\n",
    "<img src=\"./images/Screenshot (222).png\">\n",
    "<img src=\"./images/Screenshot (223).png\">\n",
    "<img src=\"./images/Screenshot (224).png\">\n",
    "<img src=\"./images/Screenshot (225).png\">\n",
    "<img src=\"./images/Screenshot (226).png\">\n",
    "<img src=\"./images/Screenshot (227).png\">\n",
    "<img src=\"./images/Screenshot (228).png\">\n",
    "<img src=\"./images/Screenshot (229).png\">\n",
    "<img src=\"./images/Screenshot (230).png\">\n",
    "<img src=\"./images/Screenshot (231).png\">"
   ]
  },
  {
   "cell_type": "code",
   "execution_count": null,
   "id": "ed72b9bd-e2a2-45ff-86a5-5526d18a0f68",
   "metadata": {},
   "outputs": [],
   "source": []
  }
 ],
 "metadata": {
  "kernelspec": {
   "display_name": "Python 3 (ipykernel)",
   "language": "python",
   "name": "python3"
  },
  "language_info": {
   "codemirror_mode": {
    "name": "ipython",
    "version": 3
   },
   "file_extension": ".py",
   "mimetype": "text/x-python",
   "name": "python",
   "nbconvert_exporter": "python",
   "pygments_lexer": "ipython3",
   "version": "3.9.13"
  }
 },
 "nbformat": 4,
 "nbformat_minor": 5
}
