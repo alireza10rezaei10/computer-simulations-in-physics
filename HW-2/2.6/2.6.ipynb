{
 "cells": [
  {
   "cell_type": "markdown",
   "id": "00df1122-af6d-441f-8411-216d084cb76a",
   "metadata": {},
   "source": [
    "<div dir=\"rtl\">\n",
    "  تمرین سری دوم درس شبیه سازی رایانه ای در فیزیک\n",
    "<br>\n",
    "    سوال 2.6\n",
    "<br>\n",
    "    علیرضا رضایی\n",
    "<br>\n",
    "    97100762\n",
    "</div>"
   ]
  },
  {
   "cell_type": "code",
   "execution_count": 1,
   "id": "73e7cbac-3452-426f-a894-09f24e6e4695",
   "metadata": {},
   "outputs": [
    {
     "name": "stdout",
     "output_type": "stream",
     "text": [
      "pygame 2.1.3 (SDL 2.0.22, Python 3.9.13)\n",
      "Hello from the pygame community. https://www.pygame.org/contribute.html\n"
     ]
    }
   ],
   "source": [
    "import numpy as np\n",
    "from our_modules import modules"
   ]
  },
  {
   "cell_type": "code",
   "execution_count": 2,
   "id": "1042d003-f87c-4d24-ae3b-6a680109669c",
   "metadata": {},
   "outputs": [],
   "source": [
    "# helper functions --------------------------------\n",
    "\n",
    "\n",
    "def rotation_matrix(theta):\n",
    "    return np.array([\n",
    "        [np.cos(theta), -np.sin(theta)],\n",
    "        [np.sin(theta), np.cos(theta)]\n",
    "    ])\n",
    "        \n",
    "\n",
    "def compression_matrix(xc, yc):\n",
    "    return np.array([\n",
    "        [xc, 0],\n",
    "        [0, yc]\n",
    "    ])\n",
    "\n",
    "def reflextion_matrix():\n",
    "    return np.array([\n",
    "        [-1, 0],\n",
    "        [0, 1]\n",
    "    ])"
   ]
  },
  {
   "cell_type": "code",
   "execution_count": 3,
   "id": "9c683f78-a1e2-451c-8a15-a3a15259f1bb",
   "metadata": {},
   "outputs": [],
   "source": [
    "# magic functions for sarakhs ---------------------------\n",
    "\n",
    "\n",
    "def f1(point):\n",
    "    '''sakheye paiini'''\n",
    "    \n",
    "    M = compression_matrix(0, 0.25)\n",
    "    \n",
    "    return M.dot(point)\n",
    "\n",
    "\n",
    "def f2(point):\n",
    "    '''kolle shekl ye kam monghabez mishe ye kam micharkhe va ye kam mire bala'''\n",
    "    M = rotation_matrix(-np.pi/16).dot(compression_matrix(0.8, 0.9))\n",
    "    \n",
    "    return M.dot(point) + np.array([0, 1.5])*70\n",
    "\n",
    "\n",
    "def f3(point):\n",
    "    ''' barge samte chapi'''\n",
    "    M = rotation_matrix(np.pi/4).dot(compression_matrix(0.25, 0.35)).dot(reflextion_matrix())\n",
    "    \n",
    "    return M.dot(point) + np.array([0, 1.3])*70\n",
    "\n",
    "def f4(point):\n",
    "    ''' barge samte rasti'''\n",
    "    M = rotation_matrix(-np.pi/4).dot(compression_matrix(0.25, 0.35))\n",
    "    \n",
    "    return M.dot(point) + np.array([0, 1.2])*70\n",
    "\n",
    "\n",
    "sarakhs_magic_functions = [f1, f2, f3, f4]"
   ]
  },
  {
   "cell_type": "code",
   "execution_count": null,
   "id": "d7764fdb-45b0-4760-989c-c64671db16c6",
   "metadata": {},
   "outputs": [],
   "source": [
    "modules.main_loop(sarakhs_magic_functions)"
   ]
  },
  {
   "cell_type": "markdown",
   "id": "1ff89dd0-07b8-45cf-a323-b7b6190e6e3a",
   "metadata": {},
   "source": [
    "## نمونه هایی از خروجی"
   ]
  },
  {
   "cell_type": "markdown",
   "id": "755b8603-c0be-4c7c-853d-da7986d923d6",
   "metadata": {},
   "source": [
    "<img src=\"./images/Screenshot (232).png\">\n",
    "<img src=\"./images/Screenshot (233).png\">\n",
    "<img src=\"./images/Screenshot (234).png\">\n",
    "<img src=\"./images/Screenshot (235).png\">\n",
    "<img src=\"./images/Screenshot (236).png\">\n",
    "<img src=\"./images/Screenshot (237).png\">\n",
    "<img src=\"./images/Screenshot (238).png\">\n",
    "<img src=\"./images/Screenshot (239).png\">\n",
    "<img src=\"./images/Screenshot (240).png\">\n",
    "<img src=\"./images/Screenshot (241).png\">\n",
    "<img src=\"./images/Screenshot (242).png\">\n",
    "<img src=\"./images/Screenshot (243).png\">\n",
    "<img src=\"./images/Screenshot (244).png\">\n",
    "<img src=\"./images/Screenshot (245).png\">\n",
    "<img src=\"./images/Screenshot (246).png\">\n",
    "<img src=\"./images/Screenshot (247).png\">\n",
    "<img src=\"./images/Screenshot (248).png\">\n",
    "<img src=\"./images/Screenshot (249).png\">\n",
    "<img src=\"./images/Screenshot (250).png\">\n",
    "<img src=\"./images/Screenshot (260).png\">\n",
    "<img src=\"./images/Screenshot (261).png\">\n",
    "<img src=\"./images/Screenshot (262).png\">\n",
    "<img src=\"./images/Screenshot (263).png\">\n",
    "<img src=\"./images/Screenshot (264).png\">"
   ]
  },
  {
   "cell_type": "code",
   "execution_count": null,
   "id": "d9c384cf-9858-44f0-8df1-aef4bfe2aa03",
   "metadata": {},
   "outputs": [],
   "source": []
  }
 ],
 "metadata": {
  "kernelspec": {
   "display_name": "Python 3 (ipykernel)",
   "language": "python",
   "name": "python3"
  },
  "language_info": {
   "codemirror_mode": {
    "name": "ipython",
    "version": 3
   },
   "file_extension": ".py",
   "mimetype": "text/x-python",
   "name": "python",
   "nbconvert_exporter": "python",
   "pygments_lexer": "ipython3",
   "version": "3.9.13"
  }
 },
 "nbformat": 4,
 "nbformat_minor": 5
}
