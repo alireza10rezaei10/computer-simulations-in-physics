{
 "cells": [
  {
   "cell_type": "code",
   "execution_count": 1,
   "id": "2924ef4a-c35d-4710-afb2-e79999092352",
   "metadata": {},
   "outputs": [],
   "source": [
    "import numpy as np"
   ]
  },
  {
   "cell_type": "code",
   "execution_count": 2,
   "id": "f0f530b6-8715-4e08-9802-1b5cffe35519",
   "metadata": {},
   "outputs": [],
   "source": [
    "# configs -------------------------------\n",
    "\n",
    "rho_0 = 1\n",
    "R = 1\n",
    "V = 4/3 * np.pi * R**3\n",
    "\n",
    "rho = lambda z: (rho_0/(2*R))*z + rho_0"
   ]
  },
  {
   "cell_type": "code",
   "execution_count": 3,
   "id": "778e5230-d0ad-4b98-9179-169344ebe7a4",
   "metadata": {},
   "outputs": [],
   "source": [
    "# functions -----------------------------\n",
    "\n",
    "f1 = lambda z: rho(z)*z\n",
    "f2 = lambda z: rho(z)"
   ]
  },
  {
   "cell_type": "code",
   "execution_count": 4,
   "id": "c79dd6ff-f4e3-417d-bf19-db34b960f8d8",
   "metadata": {},
   "outputs": [],
   "source": [
    "# simple monte carlo function -----------\n",
    "\n",
    "def simple_monte_carlo(f, number_of_random_numbers: int):\n",
    "    '''calculate integral of f in 3d space'''\n",
    "    \n",
    "    # z is in range: [0, 2R]\n",
    "    z = np.random.random(number_of_random_numbers)*2*R\n",
    "    \n",
    "    I = V * f(z).mean()\n",
    "        \n",
    "    return I"
   ]
  },
  {
   "cell_type": "code",
   "execution_count": 5,
   "id": "d6de6f25-4d76-47a4-aff7-b76c55c69f2b",
   "metadata": {},
   "outputs": [],
   "source": [
    "# main function--------------------------\n",
    "\n",
    "def main():\n",
    "    number_of_random_numbers = int(input(\"number of random numbers: \"))\n",
    "    \n",
    "    I_1 = simple_monte_carlo(f1, number_of_random_numbers)\n",
    "    I_2 = simple_monte_carlo(f2, number_of_random_numbers)\n",
    "\n",
    "    Z_com = I_1/I_2 \n",
    "    \n",
    "    print(f\"Z_com = {Z_com}\")"
   ]
  },
  {
   "cell_type": "markdown",
   "id": "86bbeb36-b11d-462a-a864-fa3b3eb04722",
   "metadata": {},
   "source": [
    "### خواسته ی سوال"
   ]
  },
  {
   "cell_type": "code",
   "execution_count": 6,
   "id": "40751254-20b3-4984-bd6f-4854c2a5c8ff",
   "metadata": {},
   "outputs": [
    {
     "name": "stdin",
     "output_type": "stream",
     "text": [
      "number of random numbers:  1000000\n"
     ]
    },
    {
     "name": "stdout",
     "output_type": "stream",
     "text": [
      "Z_com = 1.1107262403997604\n"
     ]
    }
   ],
   "source": [
    "main()"
   ]
  },
  {
   "cell_type": "markdown",
   "id": "eed9fd57-5fbe-4218-8620-555da3f5c187",
   "metadata": {},
   "source": [
    "### تاثیر نداشتن مقدار مطلق چگالی روی نتیجه"
   ]
  },
  {
   "cell_type": "code",
   "execution_count": 7,
   "id": "fc98f898-f160-4495-b80c-bf069f9e012b",
   "metadata": {},
   "outputs": [],
   "source": [
    "rho_0 = 50"
   ]
  },
  {
   "cell_type": "code",
   "execution_count": 8,
   "id": "22f878d0-4504-4018-ba07-562212c629e9",
   "metadata": {},
   "outputs": [
    {
     "name": "stdin",
     "output_type": "stream",
     "text": [
      "number of random numbers:  1000000\n"
     ]
    },
    {
     "name": "stdout",
     "output_type": "stream",
     "text": [
      "Z_com = 1.1114188666725515\n"
     ]
    }
   ],
   "source": [
    "main()"
   ]
  },
  {
   "cell_type": "markdown",
   "id": "3d27c2b3-3a58-48d3-a6ee-8c0611da34c7",
   "metadata": {},
   "source": [
    "### اگر چگالی کره یکنواخت باشد مرکز جرم باید در مرکز باشد"
   ]
  },
  {
   "cell_type": "code",
   "execution_count": 9,
   "id": "9e4f98a9-53c2-40e6-9522-c42a489ed67d",
   "metadata": {},
   "outputs": [],
   "source": [
    "rho = lambda z: z*0 + rho_0"
   ]
  },
  {
   "cell_type": "code",
   "execution_count": 10,
   "id": "306e2fbf-ade2-40b2-a720-6f6dc9b579b8",
   "metadata": {},
   "outputs": [
    {
     "name": "stdin",
     "output_type": "stream",
     "text": [
      "number of random numbers:  1000000\n"
     ]
    },
    {
     "name": "stdout",
     "output_type": "stream",
     "text": [
      "Z_com = 0.9998880823589794\n"
     ]
    }
   ],
   "source": [
    "main()"
   ]
  },
  {
   "cell_type": "code",
   "execution_count": null,
   "id": "01698a38-4d99-4d4e-beac-2adeae6e7ee8",
   "metadata": {},
   "outputs": [],
   "source": []
  }
 ],
 "metadata": {
  "kernelspec": {
   "display_name": "Python 3 (ipykernel)",
   "language": "python",
   "name": "python3"
  },
  "language_info": {
   "codemirror_mode": {
    "name": "ipython",
    "version": 3
   },
   "file_extension": ".py",
   "mimetype": "text/x-python",
   "name": "python",
   "nbconvert_exporter": "python",
   "pygments_lexer": "ipython3",
   "version": "3.9.13"
  }
 },
 "nbformat": 4,
 "nbformat_minor": 5
}
